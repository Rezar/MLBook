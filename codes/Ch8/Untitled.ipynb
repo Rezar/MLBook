{
 "cells": [
  {
   "cell_type": "code",
   "execution_count": 1,
   "metadata": {},
   "outputs": [
    {
     "name": "stdout",
     "output_type": "stream",
     "text": [
      "x:  4\n",
      "x0:  2.000000000000008\n",
      "f(x0) =  20.0\n"
     ]
    }
   ],
   "source": [
    "#-------- Using Newton-Raphson from Scipy to solve Equation---------\n",
    "from scipy.optimize import newton\n",
    "\n",
    "#----- Random Complex function\n",
    "def f(x):\n",
    "    return (1/4)*x**3+(3/4)*x**2-(3/2)*x-2\n",
    "x = 4\n",
    "x0 = newton(f, x, fprime=None, args=(), tol=1.48e-08, maxiter=10, fprime2=None)\n",
    "\n",
    "print('x: ', x)\n",
    "print('x0: ', x0)\n",
    "print(\"f(x0) = \", ((1/4)*x**3+(3/4)*x**2-(3/2)*x-2 ))"
   ]
  },
  {
   "cell_type": "code",
   "execution_count": null,
   "metadata": {},
   "outputs": [],
   "source": []
  }
 ],
 "metadata": {
  "kernelspec": {
   "display_name": "Python 3 (ipykernel)",
   "language": "python",
   "name": "python3"
  },
  "language_info": {
   "codemirror_mode": {
    "name": "ipython",
    "version": 3
   },
   "file_extension": ".py",
   "mimetype": "text/x-python",
   "name": "python",
   "nbconvert_exporter": "python",
   "pygments_lexer": "ipython3",
   "version": "3.10.9"
  }
 },
 "nbformat": 4,
 "nbformat_minor": 4
}
