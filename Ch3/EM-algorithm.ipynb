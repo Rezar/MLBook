{
 "cells": [
  {
   "cell_type": "code",
   "execution_count": 2,
   "metadata": {},
   "outputs": [],
   "source": [
    "#Source: https://www.kaggle.com/code/charel/learn-by-example-expectation-maximization/notebook\n",
    "# Objective: Let's etimate the probability distribution in a dataset that we generated \n",
    "# by using two gaussian normal probability distributions.\n",
    "\n",
    "# Using a Gaussian mixture model with two normal distributions\n",
    "\n",
    "\n",
    "# ------ libraries \n",
    "# plotting\n",
    "import matplotlib.pyplot as plt\n",
    "import seaborn as sns\n",
    "sns.set_style(\"white\")\n",
    "%matplotlib inline\n",
    "#for matrix math\n",
    "import numpy as np\n",
    "#for normalization + probability density function computation\n",
    "from scipy import stats\n",
    "#for data preprocessing\n",
    "import pandas as pd\n",
    "from math import sqrt, log, exp, pi\n",
    "from random import uniform\n"
   ]
  },
  {
   "cell_type": "code",
   "execution_count": 4,
   "metadata": {},
   "outputs": [
    {
     "name": "stdout",
     "output_type": "stream",
     "text": [
      "Input Gaussian 1: μ = 2.0, σ = 4.0\n",
      "Input Gaussian 2: μ = 9.0, σ = 2.0\n"
     ]
    },
    {
     "data": {
      "image/png": "[encoded data removed]",
      "text/plain": [
       "<Figure size 432x288 with 1 Axes>"
      ]
     },
     "metadata": {
      "needs_background": "light"
     },
     "output_type": "display_data"
    }
   ],
   "source": [
    "# generate data by giving two mean and SD to have two Normal Dist.\n",
    "random_seed=36788765\n",
    "np.random.seed(random_seed)\n",
    "\n",
    "Mean1 = 2.0  # Input parameter, mean of first normal probability distribution\n",
    "Standard_dev1 = 4.0 #@param {type:\"number\"}\n",
    "Mean2 = 9.0 # Input parameter, mean of second normal  probability distribution\n",
    "Standard_dev2 = 2.0 #@param {type:\"number\"}\n",
    "\n",
    "# generate data\n",
    "y1 = np.random.normal(Mean1, Standard_dev1, 1000)\n",
    "y2 = np.random.normal(Mean2, Standard_dev2, 500)\n",
    "data=np.append(y1,y2)\n",
    "\n",
    "# For data visiualisation calculate left and right of the graph\n",
    "Min_graph = min(data)\n",
    "Max_graph = max(data)\n",
    "x = np.linspace(Min_graph, Max_graph, 2000) # to plot the data\n",
    "\n",
    "print('Input Gaussian {:}: μ = {:.2}, σ = {:.2}'.format(\"1\", Mean1, Standard_dev1))\n",
    "print('Input Gaussian {:}: μ = {:.2}, σ = {:.2}'.format(\"2\", Mean2, Standard_dev2))\n",
    "sns.histplot(data, bins=20, kde=False);"
   ]
  },
  {
   "cell_type": "code",
   "execution_count": 6,
   "metadata": {},
   "outputs": [
    {
     "name": "stdout",
     "output_type": "stream",
     "text": [
      "Gaussian class defined\n"
     ]
    }
   ],
   "source": [
    "class Gaussian:\n",
    "    \"Model univariate Gaussian\"\n",
    "    def __init__(self, mu, sigma):\n",
    "        #mean and standard deviation\n",
    "        self.mu = mu\n",
    "        self.sigma = sigma\n",
    "\n",
    "    #probability density function\n",
    "    def pdf(self, datum):\n",
    "        \"Probability of a data point given the current parameters\"\n",
    "        u = (datum - self.mu) / abs(self.sigma)\n",
    "        y = (1 / (sqrt(2 * pi) * abs(self.sigma))) * exp(-u * u / 2)\n",
    "        return y\n",
    "    \n",
    "    def __repr__(self):\n",
    "        return 'Gaussian({0:4.6}, {1:4.6})'.format(self.mu, self.sigma)\n",
    "print(\"Gaussian class defined\")"
   ]
  },
  {
   "cell_type": "code",
   "execution_count": 8,
   "metadata": {},
   "outputs": [
    {
     "name": "stdout",
     "output_type": "stream",
     "text": [
      "done\n"
     ]
    }
   ],
   "source": [
    "class GaussianMixture_self:\n",
    "    \"Model mixture of two univariate Gaussians and their EM estimation\"\n",
    "\n",
    "    def __init__(self, data, mu_min=min(data), mu_max=max(data), sigma_min=1, sigma_max=1, mix=.5):\n",
    "        self.data = data\n",
    "        #todo the Algorithm would be numerical enhanced by normalizing the data first, next do all the EM steps and do the de-normalising at the end\n",
    "        \n",
    "        #init with multiple gaussians\n",
    "        self.one = Gaussian(uniform(mu_min, mu_max), \n",
    "                            uniform(sigma_min, sigma_max))\n",
    "        self.two = Gaussian(uniform(mu_min, mu_max), \n",
    "                            uniform(sigma_min, sigma_max))\n",
    "        \n",
    "        #as well as how much to mix them\n",
    "        self.mix = mix\n",
    "\n",
    "    def Estep(self):\n",
    "        \"Perform an E(stimation)-step, assign each point to gaussian 1 or 2 with a probability\"\n",
    "        # compute weights\n",
    "        self.loglike = 0. # = log(p = 1)\n",
    "        for datum in self.data:  \n",
    "            # unnormalized weights\n",
    "            wp1 = self.one.pdf(datum) * self.mix\n",
    "            wp2 = self.two.pdf(datum) * (1. - self.mix)\n",
    "            # compute denominator\n",
    "            den = wp1 + wp2\n",
    "            # normalize\n",
    "            wp1 /= den   \n",
    "            wp2 /= den     # wp1+wp2= 1, it either belongs to gaussian 1 or gaussion 2\n",
    "            # add into loglike\n",
    "            self.loglike += log(den) #freshening up self.loglike in the process\n",
    "            # yield weight tuple\n",
    "            yield (wp1, wp2)\n",
    "\n",
    "    def Mstep(self, weights):\n",
    "        \"Perform an M(aximization)-step\"\n",
    "        # compute denominators\n",
    "        (left, rigt) = zip(*weights) \n",
    "        one_den = sum(left)\n",
    "        two_den = sum(rigt)\n",
    "\n",
    "        # compute new means\n",
    "        self.one.mu = sum(w * d  for (w, d) in zip(left, data)) / one_den\n",
    "        self.two.mu = sum(w * d  for (w, d) in zip(rigt, data)) / two_den\n",
    "        \n",
    "        # compute new sigmas\n",
    "        self.one.sigma = sqrt(sum(w * ((d - self.one.mu) ** 2)\n",
    "                                  for (w, d) in zip(left, data)) / one_den)\n",
    "        self.two.sigma = sqrt(sum(w * ((d - self.two.mu) ** 2)\n",
    "                                  for (w, d) in zip(rigt, data)) / two_den)\n",
    "        # compute new mix\n",
    "        self.mix = one_den / len(data)\n",
    "\n",
    "        \n",
    "    def iterate(self, N=1, verbose=False):\n",
    "        \"Perform N iterations, then compute log-likelihood\"\n",
    "        for i in range(1, N+1):\n",
    "            self.Mstep(self.Estep()) #The heart of the algorith, perform E-stepand next M-step\n",
    "            if verbose:\n",
    "                print('{0:2} {1}'.format(i, self))\n",
    "        self.Estep() # to freshen up self.loglike\n",
    "\n",
    "    def pdf(self, x):\n",
    "        return (self.mix)*self.one.pdf(x) + (1-self.mix)*self.two.pdf(x)\n",
    "        \n",
    "    def __repr__(self):\n",
    "        return 'GaussianMixture({0}, {1}, mix={2.03})'.format(self.one, \n",
    "                                                              self.two, \n",
    "                                                              self.mix)\n",
    "\n",
    "    def __str__(self):\n",
    "        return 'Mixture: {0}, {1}, mix={2:.03})'.format(self.one, \n",
    "                                                        self.two, \n",
    "                                                        self.mix)\n",
    "print(\"done\")\n"
   ]
  },
  {
   "cell_type": "code",
   "execution_count": 9,
   "metadata": {},
   "outputs": [
    {
     "name": "stdout",
     "output_type": "stream",
     "text": [
      " 1 Mixture: Gaussian(-1.03094, 2.38804), Gaussian(7.20556, 2.89), mix=0.335)\n",
      " 1 Mixture: Gaussian(-0.778422, 2.65484), Gaussian(7.13032, 3.05409), mix=0.339)\n",
      " 1 Mixture: Gaussian(-0.633979, 2.77717), Gaussian(7.12136, 3.10768), mix=0.344)\n",
      " 1 Mixture: Gaussian(-0.536737, 2.84691), Gaussian(7.13592, 3.12269), mix=0.35)\n",
      " 1 Mixture: Gaussian(-0.463029, 2.89144), Gaussian(7.16153, 3.12032), mix=0.356)\n",
      " 1 Mixture: Gaussian(-0.402198, 2.92249), Gaussian(7.19287, 3.10909), mix=0.361)\n",
      " 1 Mixture: Gaussian(-0.348845, 2.94589), Gaussian(7.22729, 3.09303), mix=0.367)\n",
      " 1 Mixture: Gaussian(-0.300031, 2.96486), Gaussian(7.26336, 3.07428), mix=0.372)\n",
      " 1 Mixture: Gaussian(-0.254085, 2.98119), Gaussian(7.30021, 3.05404), mix=0.377)\n",
      " 1 Mixture: Gaussian(-0.21003, 2.99598), Gaussian(7.33736, 3.03301), mix=0.383)\n",
      " 1 Mixture: Gaussian(-0.167287, 3.00985), Gaussian(7.37449, 3.01162), mix=0.388)\n",
      " 1 Mixture: Gaussian(-0.125508, 3.0232), Gaussian(7.41141, 2.99013), mix=0.393)\n",
      " 1 Mixture: Gaussian(-0.0844873, 3.03626), Gaussian(7.44799, 2.9687), mix=0.398)\n",
      " 1 Mixture: Gaussian(-0.0441006, 3.04916), Gaussian(7.48414, 2.94744), mix=0.403)\n",
      " 1 Mixture: Gaussian(-0.004275, 3.062), Gaussian(7.51982, 2.92641), mix=0.408)\n",
      " 1 Mixture: Gaussian(0.0350311, 3.07481), Gaussian(7.55498, 2.90567), mix=0.413)\n",
      " 1 Mixture: Gaussian(0.0738404, 3.08764), Gaussian(7.5896, 2.88525), mix=0.418)\n",
      " 1 Mixture: Gaussian(0.112164, 3.10048), Gaussian(7.62364, 2.86516), mix=0.423)\n",
      " 1 Mixture: Gaussian(0.150004, 3.11335), Gaussian(7.65709, 2.84544), mix=0.427)\n",
      " 1 Mixture: Gaussian(0.18736, 3.12625), Gaussian(7.68994, 2.8261), mix=0.432)\n"
     ]
    }
   ],
   "source": [
    "# See the algorithm in action\n",
    "n_iterations = 20\n",
    "best_mix = None\n",
    "best_loglike = float('-inf')\n",
    "mix = GaussianMixture_self(data)\n",
    "for _ in range(n_iterations):\n",
    "    try:\n",
    "        #train!\n",
    "        mix.iterate(verbose=True)\n",
    "        if mix.loglike > best_loglike:\n",
    "            best_loglike = mix.loglike\n",
    "            best_mix = mix\n",
    "        \n",
    "    except (ZeroDivisionError, ValueError, RuntimeWarning): # Catch division errors from bad starts, and just throw them out...\n",
    "        print(\"one less\")\n",
    "        pass"
   ]
  },
  {
   "cell_type": "code",
   "execution_count": 15,
   "metadata": {},
   "outputs": [
    {
     "name": "stdout",
     "output_type": "stream",
     "text": [
      "Computing best model with random restarts...\n",
      "\n",
      "Input Gaussian 1: μ = 2.0, σ = 4.0\n",
      "Input Gaussian 2: μ = 9.0, σ = 2.0\n",
      "Gaussian 1: μ = 1.6, σ = 3.7, weight = 0.6\n",
      "Gaussian 2: μ = 8.7, σ = 2.3, weight = 0.4\n"
     ]
    },
    {
     "name": "stderr",
     "output_type": "stream",
     "text": [
      "/opt/anaconda3/lib/python3.8/site-packages/seaborn/distributions.py:2551: FutureWarning: `distplot` is a deprecated function and will be removed in a future version. Please adapt your code to use either `displot` (a figure-level function with similar flexibility) or `histplot` (an axes-level function for histograms).\n",
      "  warnings.warn(msg, FutureWarning)\n"
     ]
    },
    {
     "data": {
      "image/png": "[encoded data removed]",
      "text/plain": [
       "<Figure size 432x288 with 1 Axes>"
      ]
     },
     "metadata": {
      "needs_background": "light"
     },
     "output_type": "display_data"
    }
   ],
   "source": [
    "# Find best Mixture Gaussian model\n",
    "n_iterations = 50\n",
    "n_random_restarts = 4\n",
    "best_mix = None\n",
    "best_loglike = float('-inf')\n",
    "print('Computing best model with random restarts...\\n')\n",
    "for _ in range(n_random_restarts):\n",
    "    mix = GaussianMixture_self(data)\n",
    "    for _ in range(n_iterations):\n",
    "        try:\n",
    "            mix.iterate()\n",
    "            if mix.loglike > best_loglike:\n",
    "                best_loglike = mix.loglike\n",
    "                best_mix = mix\n",
    "        except (ZeroDivisionError, ValueError, RuntimeWarning): # Catch division errors from bad starts, and just throw them out...\n",
    "            pass\n",
    "#print('Best Gaussian Mixture : μ = {:.2}, σ = {:.2} with μ = {:.2}, σ = {:.2}'.format(best_mix.one.mu, best_mix.one.sigma, best_mix.two.mu, best_mix.two.sigma))\n",
    "\n",
    "print('Input Gaussian {:}: μ = {:.2}, σ = {:.2}'.format(\"1\", Mean1, Standard_dev1))\n",
    "print('Input Gaussian {:}: μ = {:.2}, σ = {:.2}'.format(\"2\", Mean2, Standard_dev2))\n",
    "print('Gaussian {:}: μ = {:.2}, σ = {:.2}, weight = {:.2}'.format(\"1\", best_mix.one.mu, best_mix.one.sigma, best_mix.mix))\n",
    "print('Gaussian {:}: μ = {:.2}, σ = {:.2}, weight = {:.2}'.format(\"2\", best_mix.two.mu, best_mix.two.sigma, (1-best_mix.mix)))\n",
    "#Show mixture\n",
    "sns.distplot(data, bins=20, kde=False, norm_hist=True);\n",
    "g_both = [best_mix.pdf(e) for e in x]\n",
    "plt.plot(x, g_both, label='gaussian mixture');\n",
    "g_left = [best_mix.one.pdf(e) * best_mix.mix for e in x]\n",
    "plt.plot(x, g_left, label='gaussian one');\n",
    "g_right = [best_mix.two.pdf(e) * (1-best_mix.mix) for e in x]\n",
    "plt.plot(x, g_right, label='gaussian two');\n",
    "plt.legend();\n"
   ]
  },
  {
   "cell_type": "code",
   "execution_count": null,
   "metadata": {},
   "outputs": [],
   "source": []
  }
 ],
 "metadata": {
  "kernelspec": {
   "display_name": "Python 3 (ipykernel)",
   "language": "python",
   "name": "python3"
  },
  "language_info": {
   "codemirror_mode": {
    "name": "ipython",
    "version": 3
   },
   "file_extension": ".py",
   "mimetype": "text/x-python",
   "name": "python",
   "nbconvert_exporter": "python",
   "pygments_lexer": "ipython3",
   "version": "3.9.12"
  }
 },
 "nbformat": 4,
 "nbformat_minor": 4
}
