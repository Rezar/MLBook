{
 "cells": [
  {
   "cell_type": "code",
   "execution_count": 5,
   "metadata": {},
   "outputs": [],
   "source": [
    "import matplotlib.pyplot as plt\n",
    "import numpy as np \n",
    "import pandas as pd\n",
    "import matplotlib\n",
    "\n",
    "#from sklearn.datasets import load_boston\n",
    "from sklearn.model_selection import train_test_split\n",
    "from sklearn.linear_model import LinearRegression\n",
    "from sklearn.linear_model import Ridge\n",
    "from sklearn.linear_model import Lasso\n",
    "from sklearn.datasets import fetch_california_housing\n"
   ]
  },
  {
   "cell_type": "code",
   "execution_count": 9,
   "metadata": {},
   "outputs": [
    {
     "name": "stdout",
     "output_type": "stream",
     "text": [
      "(20640, 8)\n",
      "Index(['MedInc', 'HouseAge', 'AveRooms', 'AveBedrms', 'Population', 'AveOccup',\n",
      "       'Latitude', 'Longitude'],\n",
      "      dtype='object')\n",
      "Index(['MedInc', 'HouseAge', 'AveRooms', 'AveBedrms', 'Population', 'AveOccup',\n",
      "       'Latitude', 'Longitude', 'PRICE'],\n",
      "      dtype='object')\n"
     ]
    }
   ],
   "source": [
    "\n",
    "california = fetch_california_housing()\n",
    "california_df = pd.DataFrame(california.data, columns=california.feature_names)\n",
    "print(california_df.shape)\n",
    "print(california_df.columns)\n",
    "\n",
    "# add another column that contains the house prices which in scikit learn datasets are considered as target\n",
    "california_df['PRICE']= california.target\n",
    "print(california_df.columns)\n",
    "\n",
    "#print boston_df.head(3)\n",
    "newX = california_df.drop('PRICE',axis=1)\n",
    "#print(\"--newX----\",newX.shape) \n",
    "\n",
    "newY=california_df['PRICE']\n",
    "#print(\"--newY.shape----\",newY.shape)\n",
    "\n",
    "#print type(newY)# pandas core frame\n",
    "X_train,X_test,y_train,y_test = train_test_split(newX,newY, test_size=0.3, random_state=3)\n",
    "#print (len(X_test), len(y_test))\n"
   ]
  },
  {
   "cell_type": "code",
   "execution_count": 10,
   "metadata": {},
   "outputs": [
    {
     "name": "stdout",
     "output_type": "stream",
     "text": [
      "-----------------------\n",
      "Linear Reg, train score 0.6096935309447493\n",
      "Linear Reg, test score 0.5910064719662462\n",
      "Linear Reg, coef. [ 4.53053771e-01  1.01139824e-02 -1.30682277e-01  8.47640845e-01\n",
      " -3.48804147e-06 -3.35207458e-03 -4.23235312e-01 -4.37132608e-01]\n",
      "Linear Reg, coef. 8\n"
     ]
    }
   ],
   "source": [
    "#----- Linear Regression without any Regularization ------\n",
    "lr = LinearRegression()\n",
    "lr.fit(X_train, y_train)\n",
    "\n",
    "train_score=lr.score(X_train, y_train)\n",
    "test_score=lr.score(X_test, y_test)\n",
    "print ('-----------------------')\n",
    "print ('Linear Reg, train score', train_score)\n",
    "print ('Linear Reg, test score', test_score)\n",
    "print ('Linear Reg, coef.', lr.coef_)\n",
    "print ('Linear Reg, coef.', len(lr.coef_))\n"
   ]
  },
  {
   "cell_type": "code",
   "execution_count": 12,
   "metadata": {},
   "outputs": [
    {
     "name": "stdout",
     "output_type": "stream",
     "text": [
      "Ridge Reg, train score 0.6090209947101342\n",
      "Ridge Reg, test score 0.5969027383419316\n",
      "Ridge Reg, coef. [ 4.36648653e-01  1.03339331e-02 -9.99494170e-02  6.72517109e-01\n",
      " -2.97710172e-06 -3.31114756e-03 -4.21283259e-01 -4.33004004e-01]\n",
      "Ridge Reg, coef. 8\n"
     ]
    }
   ],
   "source": [
    "# -------- Ridge Regularization -------\n",
    "\n",
    "rr = Ridge(alpha=50) \n",
    "rr.fit(X_train, y_train)\n",
    "\n",
    "ridge_train_score=rr.score(X_train, y_train)\n",
    "ridge_test_score=rr.score(X_test, y_test)\n",
    "\n",
    "print ('Ridge Reg, train score', ridge_train_score)\n",
    "print ('Ridge Reg, test score', ridge_test_score)\n",
    "print ('Ridge Reg, coef.', rr.coef_)\n",
    "print ('Ridge Reg, coef.', len(rr.coef_))\n"
   ]
  },
  {
   "cell_type": "code",
   "execution_count": 14,
   "metadata": {},
   "outputs": [
    {
     "name": "stdout",
     "output_type": "stream",
     "text": [
      "Lasso Reg, train score 0.2842486659034922\n",
      "Lasso  Reg, test score 0.2916158747075095\n",
      "Lasso Reg, coef. [ 1.45888363e-01  6.23418274e-03  0.00000000e+00 -0.00000000e+00\n",
      " -8.25842709e-06 -0.00000000e+00 -0.00000000e+00 -0.00000000e+00]\n",
      "Lasso Reg, coef. 8\n"
     ]
    }
   ],
   "source": [
    "# -------- LASSO Regularization -------\n",
    "\n",
    "la = Lasso(alpha=10) \n",
    "la.fit(X_train, y_train)\n",
    "\n",
    "lasso_train_score=la.score(X_train, y_train)\n",
    "lasso_test_score=la.score(X_test, y_test)\n",
    "\n",
    "print ('Lasso Reg, train score', lasso_train_score)\n",
    "print ('Lasso  Reg, test score', lasso_test_score)\n",
    "print ('Lasso Reg, coef.', la.coef_)\n",
    "print ('Lasso Reg, coef.', len(la.coef_))"
   ]
  },
  {
   "cell_type": "code",
   "execution_count": null,
   "metadata": {},
   "outputs": [],
   "source": []
  }
 ],
 "metadata": {
  "kernelspec": {
   "display_name": "Python 3 (ipykernel)",
   "language": "python",
   "name": "python3"
  },
  "language_info": {
   "codemirror_mode": {
    "name": "ipython",
    "version": 3
   },
   "file_extension": ".py",
   "mimetype": "text/x-python",
   "name": "python",
   "nbconvert_exporter": "python",
   "pygments_lexer": "ipython3",
   "version": "3.10.9"
  }
 },
 "nbformat": 4,
 "nbformat_minor": 4
}
