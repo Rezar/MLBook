{
 "cells": [
  {
   "cell_type": "code",
   "execution_count": 1,
   "metadata": {},
   "outputs": [
    {
     "name": "stdout",
     "output_type": "stream",
     "text": [
      "(100, 20) (100,)\n"
     ]
    }
   ],
   "source": [
    "#------------ k Fold cross validation ------------------------\n",
    "# source: https://machinelearningmastery.com/how-to-configure-k-fold-cross-validation/\n",
    "\n",
    "# test classification dataset\n",
    "from sklearn.datasets import make_classification\n",
    "# define dataset\n",
    "X, y = make_classification(n_samples=100, n_features=20, n_informative=15, n_redundant=5, random_state=1)\n",
    "# summarize the dataset\n",
    "print(X.shape, y.shape)\n"
   ]
  },
  {
   "cell_type": "code",
   "execution_count": 2,
   "metadata": {},
   "outputs": [
    {
     "name": "stdout",
     "output_type": "stream",
     "text": [
      "Accuracy: 0.850 (0.128)\n"
     ]
    }
   ],
   "source": [
    "# evaluate a logistic regression model using k-fold cross-validation\n",
    "from numpy import mean\n",
    "from numpy import std\n",
    "from sklearn.datasets import make_classification\n",
    "from sklearn.model_selection import KFold\n",
    "from sklearn.model_selection import cross_val_score\n",
    "from sklearn.linear_model import LogisticRegression\n",
    "# create dataset\n",
    "X, y = make_classification(n_samples=100, n_features=20, n_informative=15, n_redundant=5, random_state=1)\n",
    "\n",
    "# prepare the cross-validation procedure\n",
    "cv = KFold(n_splits=10, random_state=1, shuffle=True)\n",
    "# create model\n",
    "model = LogisticRegression()\n",
    "# evaluate model\n",
    "scores = cross_val_score(model, X, y, scoring='accuracy', cv=cv, n_jobs=-1)\n",
    "# report performance\n",
    "print('Accuracy: %.3f (%.3f)' % (mean(scores), std(scores)))"
   ]
  },
  {
   "cell_type": "code",
   "execution_count": 1,
   "metadata": {},
   "outputs": [
    {
     "data": {
      "image/png": "[encoded data removed]",
      "text/plain": [
       "<Figure size 432x288 with 1 Axes>"
      ]
     },
     "metadata": {
      "needs_background": "light"
     },
     "output_type": "display_data"
    }
   ],
   "source": [
    "# ------------------- ROC curve -----------------------------\n",
    "# source:  https://www.statology.org/plot-roc-curve-python/\n",
    "import pandas as pd\n",
    "import numpy as np\n",
    "from sklearn.model_selection import train_test_split\n",
    "from sklearn.linear_model import LogisticRegression\n",
    "from sklearn import metrics\n",
    "import matplotlib.pyplot as plt\n",
    "\n",
    "\n",
    "#import dataset from CSV file on Github\n",
    "url = \"https://raw.githubusercontent.com/Statology/Python-Guides/main/default.csv\"\n",
    "data = pd.read_csv(url)\n",
    "\n",
    "#define the predictor variables and the response variable\n",
    "X = data[['student', 'balance', 'income']]\n",
    "y = data['default']\n",
    "\n",
    "#split the dataset into training (70%) and testing (30%) sets\n",
    "X_train,X_test,y_train,y_test = train_test_split(X,y,test_size=0.3,random_state=0) \n",
    "\n",
    "#instantiate the Logistic Regression model\n",
    "log_regression = LogisticRegression()\n",
    "\n",
    "#fit the model using the training data\n",
    "log_regression.fit(X_train,y_train)\n",
    "\n",
    "#import dataset from CSV file on Github\n",
    "url = \"https://raw.githubusercontent.com/Statology/Python-Guides/main/default.csv\"\n",
    "data = pd.read_csv(url)\n",
    "\n",
    "#define the predictor variables and the response variable\n",
    "X = data[['student', 'balance', 'income']]\n",
    "y = data['default']\n",
    "\n",
    "#split the dataset into training (70%) and testing (30%) sets\n",
    "X_train,X_test,y_train,y_test = train_test_split(X,y,test_size=0.3,random_state=0) \n",
    "\n",
    "#instantiate the model\n",
    "log_regression = LogisticRegression()\n",
    "\n",
    "#fit the model using the training data\n",
    "log_regression.fit(X_train,y_train)\n",
    "\n",
    "# --- Plot ROC\n",
    "#define metrics\n",
    "y_pred_proba = log_regression.predict_proba(X_test)[::,1]\n",
    "fpr, tpr, threshold = metrics.roc_curve(y_test,  y_pred_proba) # _ could be used instead of threshold\n",
    "\n",
    "#create ROC curve\n",
    "plt.plot(fpr,tpr)\n",
    "plt.ylabel('True Positive Rate')\n",
    "plt.xlabel('False Positive Rate')\n",
    "plt.show()\n"
   ]
  },
  {
   "cell_type": "code",
   "execution_count": 11,
   "metadata": {},
   "outputs": [
    {
     "name": "stdout",
     "output_type": "stream",
     "text": [
      "Number of parameters: 3\n",
      "MSE: 0.011\n",
      "AIC: -441.866\n"
     ]
    }
   ],
   "source": [
    "# ------- AIC and BIC python ---------------\n",
    "# source: https://machinelearningmastery.com/probabilistic-model-selection-measures/\n",
    "# calculate akaike information criterion for a linear regression model\n",
    "from math import log\n",
    "from sklearn.datasets import make_regression\n",
    "from sklearn.linear_model import LinearRegression\n",
    "from sklearn.metrics import mean_squared_error\n",
    "\n",
    "# calculate aic for regression\n",
    "def calculate_aic(n, mse, num_params):\n",
    "    aic = n * log(mse) + 2 * num_params\n",
    "    return aic\n",
    "\n",
    "# generate dataset\n",
    "X, y = make_regression(n_samples=100, n_features=2, noise=0.1)\n",
    "# define and fit a linear model on all data\n",
    "model = LinearRegression()\n",
    "model.fit(X, y)\n",
    "# number of parameters\n",
    "num_params = len(model.coef_) + 1\n",
    "print('Number of parameters: %d' % (num_params))\n",
    "# predict the training set\n",
    "yhat = model.predict(X)\n",
    "# calculate the error\n",
    "mse = mean_squared_error(y, yhat)\n",
    "print('MSE: %.3f' % mse)\n",
    "# calculate the aic\n",
    "aic = calculate_aic(len(y), mse, num_params)\n",
    "print('AIC: %.3f' % aic)"
   ]
  },
  {
   "cell_type": "code",
   "execution_count": null,
   "metadata": {},
   "outputs": [],
   "source": []
  }
 ],
 "metadata": {
  "kernelspec": {
   "display_name": "Python 3 (ipykernel)",
   "language": "python",
   "name": "python3"
  },
  "language_info": {
   "codemirror_mode": {
    "name": "ipython",
    "version": 3
   },
   "file_extension": ".py",
   "mimetype": "text/x-python",
   "name": "python",
   "nbconvert_exporter": "python",
   "pygments_lexer": "ipython3",
   "version": "3.9.12"
  }
 },
 "nbformat": 4,
 "nbformat_minor": 4
}
