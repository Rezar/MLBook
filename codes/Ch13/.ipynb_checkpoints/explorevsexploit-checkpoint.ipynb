{
 "cells": [
  {
   "cell_type": "code",
   "execution_count": 11,
   "id": "8c0ef330",
   "metadata": {},
   "outputs": [
    {
     "ename": "IndentationError",
     "evalue": "unexpected indent (2017647899.py, line 15)",
     "output_type": "error",
     "traceback": [
      "\u001b[0;36m  Cell \u001b[0;32mIn[11], line 15\u001b[0;36m\u001b[0m\n\u001b[0;31m    for episode in range(100):\u001b[0m\n\u001b[0m    ^\u001b[0m\n\u001b[0;31mIndentationError\u001b[0m\u001b[0;31m:\u001b[0m unexpected indent\n"
     ]
    }
   ],
   "source": [
    "import random\n",
    "# Set up environment\n",
    "actions = [0, 1, 2, 3]  # Possible actions\n",
    "rewards = [1, 2, 3, 4]  # Reward for each action\n",
    "\n",
    "# Hyperparameters\n",
    "epsilon = 0.2 # Exploration rate <----- PLAY WITH THIS IN THE CLASS\n",
    "gamma = 0.9   # Discount factor\n",
    "\n",
    "# Initialize Q-table\n",
    "q_table = {action: 0 for action in actions}\n",
    "\n",
    "# Training loop\n",
    "for episode in range(100):\n",
    "    # Choose action\n",
    "    if random.random() < epsilon:  # Explore\n",
    "        action = random.choice(actions)\n",
    "        print('---Explore')\n",
    "    else:  # Exploit\n",
    "        action = max(q_table, key=q_table.get)\n",
    "        print('Exploit')\n",
    "\n",
    "print(q_table)"
   ]
  },
  {
   "cell_type": "code",
   "execution_count": null,
   "id": "36312e99",
   "metadata": {},
   "outputs": [],
   "source": []
  }
 ],
 "metadata": {
  "kernelspec": {
   "display_name": "Python 3 (ipykernel)",
   "language": "python",
   "name": "python3"
  },
  "language_info": {
   "codemirror_mode": {
    "name": "ipython",
    "version": 3
   },
   "file_extension": ".py",
   "mimetype": "text/x-python",
   "name": "python",
   "nbconvert_exporter": "python",
   "pygments_lexer": "ipython3",
   "version": "3.10.9"
  }
 },
 "nbformat": 4,
 "nbformat_minor": 5
}
