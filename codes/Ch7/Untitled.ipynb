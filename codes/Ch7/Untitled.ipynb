{
 "cells": [
  {
   "cell_type": "code",
   "execution_count": 2,
   "id": "e5df14dc",
   "metadata": {},
   "outputs": [
    {
     "data": {
      "text/plain": [
       "array([[-2.2493483 ],\n",
       "       [-3.04335106],\n",
       "       [-4.54271653],\n",
       "       [ 0.42860449],\n",
       "       [ 1.43645935],\n",
       "       [ 1.92796996],\n",
       "       [ 2.61504667],\n",
       "       [ 3.42733543]])"
      ]
     },
     "execution_count": 2,
     "metadata": {},
     "output_type": "execute_result"
    }
   ],
   "source": [
    "import numpy as np\n",
    "from sklearn.decomposition import PCA\n",
    "from sklearn.decomposition import IncrementalPCA\n",
    "\n",
    "X = np.array([[-1, -1,2], [-2, -1,2], [-3, -2,1], [1, 1,1], [2, 1,3], [2,2,2] ,[3, 2,1], [3,3,3]])\n",
    "ipca = IncrementalPCA(n_components=2)\n",
    "ipca.fit(X)\n",
    "ipca.transform(X)"
   ]
  },
  {
   "cell_type": "code",
   "execution_count": 3,
   "id": "94a89a49",
   "metadata": {},
   "outputs": [
    {
     "data": {
      "text/plain": [
       "array([[-0.16803946],\n",
       "       [-1.34431567],\n",
       "       [-1.44772457],\n",
       "       [ 0.03877834],\n",
       "       [ 1.21505455],\n",
       "       [ 0.14218723],\n",
       "       [ 1.31846345],\n",
       "       [ 0.24559613]])"
      ]
     },
     "execution_count": 3,
     "metadata": {},
     "output_type": "execute_result"
    }
   ],
   "source": [
    "#----LDA dimensionality reduction toy example ------\n",
    "import numpy as np\n",
    "#from sklearn.lda import LDA\n",
    "from sklearn.discriminant_analysis import LinearDiscriminantAnalysis as LDA\n",
    "\n",
    "X = np.array([[-1, -1], [-2, -1], [-3, -2], [1, 1], [2, 1], [2,2] ,[3, 2], [3,3]])\n",
    "Y = np.array([1, 1, 1, 1, 2, 2,1,1]) # Y is used for class labels (blue and red)\n",
    "trf = LDA() \n",
    "trf.fit(X,Y)\n",
    "trf.transform(X)"
   ]
  },
  {
   "cell_type": "code",
   "execution_count": null,
   "id": "89c6292f",
   "metadata": {},
   "outputs": [],
   "source": []
  }
 ],
 "metadata": {
  "kernelspec": {
   "display_name": "Python 3 (ipykernel)",
   "language": "python",
   "name": "python3"
  },
  "language_info": {
   "codemirror_mode": {
    "name": "ipython",
    "version": 3
   },
   "file_extension": ".py",
   "mimetype": "text/x-python",
   "name": "python",
   "nbconvert_exporter": "python",
   "pygments_lexer": "ipython3",
   "version": "3.10.9"
  }
 },
 "nbformat": 4,
 "nbformat_minor": 5
}
