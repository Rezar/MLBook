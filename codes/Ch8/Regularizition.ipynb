{
 "cells": [
  {
   "cell_type": "code",
   "execution_count": 38,
   "metadata": {},
   "outputs": [],
   "source": [
    "import matplotlib.pyplot as plt\n",
    "import numpy as np \n",
    "import pandas as pd\n",
    "import matplotlib\n",
    "\n",
    "from sklearn.datasets import load_boston\n",
    "from sklearn.model_selection import train_test_split\n",
    "from sklearn.linear_model import LinearRegression\n",
    "from sklearn.linear_model import Ridge\n",
    "from sklearn.linear_model import Lasso"
   ]
  },
  {
   "cell_type": "code",
   "execution_count": 46,
   "metadata": {},
   "outputs": [
    {
     "name": "stdout",
     "output_type": "stream",
     "text": [
      "(506, 13)\n",
      "Index(['CRIM', 'ZN', 'INDUS', 'CHAS', 'NOX', 'RM', 'AGE', 'DIS', 'RAD', 'TAX',\n",
      "       'PTRATIO', 'B', 'LSTAT'],\n",
      "      dtype='object')\n",
      "Index(['CRIM', 'ZN', 'INDUS', 'CHAS', 'NOX', 'RM', 'AGE', 'DIS', 'RAD', 'TAX',\n",
      "       'PTRATIO', 'B', 'LSTAT', 'PRICE'],\n",
      "      dtype='object')\n"
     ]
    }
   ],
   "source": [
    "\n",
    "boston = load_boston()\n",
    "boston_df = pd.DataFrame(boston.data, columns=boston.feature_names)\n",
    "print(boston_df.shape)\n",
    "print(boston_df.columns)\n",
    "\n",
    "# add another column that contains the house prices which in scikit learn datasets are considered as target\n",
    "boston_df['PRICE']= boston.target\n",
    "print(boston_df.columns)\n",
    "\n",
    "\n",
    "#print boston_df.head(3)\n",
    "newX = boston_df.drop('PRICE',axis=1)\n",
    "#print(\"--newX----\",newX.shape) \n",
    "\n",
    "newY=boston_df['PRICE']\n",
    "#print(\"--newY.shape----\",newY.shape)\n",
    "\n",
    "#print type(newY)# pandas core frame\n",
    "X_train,X_test,y_train,y_test = train_test_split(newX,newY, test_size=0.3, random_state=3)\n",
    "#print (len(X_test), len(y_test))\n"
   ]
  },
  {
   "cell_type": "code",
   "execution_count": 47,
   "metadata": {},
   "outputs": [
    {
     "name": "stdout",
     "output_type": "stream",
     "text": [
      "-----------------------\n",
      "Linear Reg, train score 0.7419034960343789\n",
      "Linear Reg, test score 0.7147895265576849\n",
      "Linear Reg, coef. [-1.28899229e-01  4.62536564e-02 -5.41974027e-02  3.83208843e+00\n",
      " -1.24514995e+01  3.72790367e+00  7.37824474e-03 -1.19551784e+00\n",
      "  2.80152377e-01 -7.75364999e-03 -8.27122705e-01  1.25331573e-02\n",
      " -5.56644117e-01]\n",
      "Linear Reg, coef. 13\n"
     ]
    }
   ],
   "source": [
    "#----- Linear Regression without any Regularization ------\n",
    "lr = LinearRegression()\n",
    "lr.fit(X_train, y_train)\n",
    "\n",
    "train_score=lr.score(X_train, y_train)\n",
    "test_score=lr.score(X_test, y_test)\n",
    "print ('-----------------------')\n",
    "print ('Linear Reg, train score', train_score)\n",
    "print ('Linear Reg, test score', test_score)\n",
    "print ('Linear Reg, coef.', lr.coef_)\n",
    "print ('Linear Reg, coef.', len(lr.coef_))\n"
   ]
  },
  {
   "cell_type": "code",
   "execution_count": 54,
   "metadata": {},
   "outputs": [
    {
     "name": "stdout",
     "output_type": "stream",
     "text": [
      "Ridge Reg, train score 0.7172809669938278\n",
      "Ridge Reg, test score 0.6805765856921937\n",
      "Ridge Reg, coef. [-0.11973214  0.0571583  -0.10448294  0.74655991 -0.13349626  1.93180691\n",
      "  0.01453469 -0.95470769  0.29564552 -0.01059791 -0.76014483  0.01180499\n",
      " -0.71980859]\n",
      "Ridge Reg, coef. 13\n"
     ]
    }
   ],
   "source": [
    "# -------- Ridge Regularization -------\n",
    "\n",
    "rr = Ridge(alpha=100) \n",
    "rr.fit(X_train, y_train)\n",
    "\n",
    "ridge_train_score=rr.score(X_train, y_train)\n",
    "ridge_test_score=rr.score(X_test, y_test)\n",
    "\n",
    "print ('Ridge Reg, train score', ridge_train_score)\n",
    "print ('Ridge Reg, test score', ridge_test_score)\n",
    "print ('Ridge Reg, coef.', rr.coef_)\n",
    "print ('Ridge Reg, coef.', len(rr.coef_))\n"
   ]
  },
  {
   "cell_type": "code",
   "execution_count": 55,
   "metadata": {},
   "outputs": [
    {
     "name": "stdout",
     "output_type": "stream",
     "text": [
      "Lasso Reg, train score 0.7172809669938278\n",
      "Lasso  Reg, test score 0.6805765856921937\n",
      "Lasso Reg, coef. [-0.          0.         -0.          0.         -0.          0.\n",
      " -0.          0.         -0.         -0.01957383 -0.          0.00821984\n",
      " -0.        ]\n",
      "Lasso Reg, coef. 13\n"
     ]
    }
   ],
   "source": [
    "# -------- LASSO Regularization -------\n",
    "\n",
    "la = Lasso(alpha=100) \n",
    "la.fit(X_train, y_train)\n",
    "\n",
    "lasso_train_score=rr.score(X_train, y_train)\n",
    "lasso_test_score=rr.score(X_test, y_test)\n",
    "\n",
    "print ('Lasso Reg, train score', lasso_train_score)\n",
    "print ('Lasso  Reg, test score', lasso_test_score)\n",
    "print ('Lasso Reg, coef.', la.coef_)\n",
    "print ('Lasso Reg, coef.', len(la.coef_))"
   ]
  },
  {
   "cell_type": "code",
   "execution_count": null,
   "metadata": {},
   "outputs": [],
   "source": []
  }
 ],
 "metadata": {
  "kernelspec": {
   "display_name": "Python 3 (ipykernel)",
   "language": "python",
   "name": "python3"
  },
  "language_info": {
   "codemirror_mode": {
    "name": "ipython",
    "version": 3
   },
   "file_extension": ".py",
   "mimetype": "text/x-python",
   "name": "python",
   "nbconvert_exporter": "python",
   "pygments_lexer": "ipython3",
   "version": "3.8.5"
  }
 },
 "nbformat": 4,
 "nbformat_minor": 4
}
