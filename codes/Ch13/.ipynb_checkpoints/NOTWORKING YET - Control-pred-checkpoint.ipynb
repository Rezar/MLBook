{
 "cells": [
  {
   "cell_type": "code",
   "execution_count": null,
   "id": "71244386",
   "metadata": {},
   "outputs": [],
   "source": [
    "#! pip install 'gymnasium[FrozenLake-v1]'\n",
    "#!pip install gymnasium --upgrade\n",
    "#! gymnasium install frozenlake-v1\n",
    "!pip install pygame\n"
   ]
  },
  {
   "cell_type": "code",
   "execution_count": null,
   "id": "ea00f6b8",
   "metadata": {},
   "outputs": [],
   "source": [
    "# Import libraries,\n",
    "import random\n",
    "import numpy as np\n",
    "import gymnasium as gym\n",
    "import matplotlib.pyplot as plt\n",
    "from IPython import display\n",
    "\n",
    "# # Create the environment\n",
    "# env = gym.make('FrozenLake-v1', render_mode='rgb_array')\n",
    "# env.reset()\n",
    "# image =env.render()\n",
    "    \n",
    "# plt.imshow(image)\n",
    "# plt.show()\n",
    "\n",
    "# Get the number of states and actions,\n",
    "# nS = env.observation_space.n\n",
    "# nA = env.action_space.n"
   ]
  },
  {
   "cell_type": "code",
   "execution_count": null,
   "id": "f2a841b3",
   "metadata": {},
   "outputs": [],
   "source": []
  },
  {
   "cell_type": "code",
   "execution_count": null,
   "id": "9ae3c86e",
   "metadata": {},
   "outputs": [],
   "source": [
    "import gym\n",
    "import numpy as np\n"
   ]
  },
  {
   "cell_type": "code",
   "execution_count": 158,
   "id": "ec415898",
   "metadata": {},
   "outputs": [],
   "source": [
    "def policy_evaluation(env, policy, num_episodes, max_episode_length, GAMMA):\n",
    "    num_states = env.observation_space.n\n",
    "    V = np.zeros(num_states)\n",
    "\n",
    "    for episode in range(num_episodes):\n",
    "        state = env.reset()\n",
    "        episode_states = []\n",
    "        episode_rewards = []\n",
    "\n",
    "        for t in range(max_episode_length):\n",
    "            if (isinstance(state, tuple)): \n",
    "                state = state[0]\n",
    "            action = policy[state]  \n",
    "            next_state, reward, done, truncated, info  = env.step(action)\n",
    "#             print('---------env.step(action)-----',env.step(action))\n",
    "            episode_states.append(state)\n",
    "            episode_rewards.append(reward)\n",
    "            state = next_state\n",
    "#         print ('-------policy_evaluation.episode_states----',episode_states)\n",
    "#         print ('-------policy_evaluation.reward----',reward)\n",
    "\n",
    "        G = 0\n",
    "        for t in reversed(range(len(episode_states))):\n",
    "            state = episode_states[t]\n",
    "            reward = episode_rewards[t]\n",
    "            G = GAMMA * G + reward\n",
    "            V[state] = (V[state] * episode + G) / (episode + 1)\n",
    "\n",
    "#         print ('-------policy_evaluation.state----',state)\n",
    "#         print ('-------policy_evaluation.V----',V)\n",
    "#         print ('-------policy_evaluation.G----',G)\n",
    "         print ('-------policy_evaluation.reward----',reward)\n",
    "    \n",
    "    return V\n",
    "\n",
    "def policy_improvement(env, V, num_episodes, max_episode_length):\n",
    "    num_states = env.observation_space.n\n",
    "    num_actions = env.action_space.n\n",
    "    policy = np.zeros(num_states, dtype=int)\n",
    "\n",
    "    for state in range(num_states):\n",
    "        q_values = np.zeros(num_actions)\n",
    "\n",
    "        for action in range(num_actions):\n",
    "            for _ in range(num_episodes):\n",
    "                episode_rewards = []\n",
    "\n",
    "                for _ in range(max_episode_length):\n",
    "                    next_state, reward, terminated, truncated, info  = env.step(action)\n",
    "                    episode_rewards.append(reward)\n",
    "\n",
    "                    if done:\n",
    "                        break\n",
    "\n",
    "                q_values[action] += sum(episode_rewards)\n",
    "\n",
    "        policy[state] = np.argmax(q_values)\n",
    "\n",
    "    return policy\n",
    "\n",
    "def main():\n",
    "    # Create the environment\n",
    "    env = gym.make('FrozenLake-v1')\n",
    "\n",
    "    # Initialize the value function and policy\n",
    "    num_states = env.observation_space.n\n",
    "    num_actions = env.action_space.n\n",
    "    V = np.zeros(num_states)\n",
    "    \n",
    "    policy = np.random.randint(0, num_actions, size=num_states)\n",
    "    print('-----main.policy----',policy)\n",
    "    # Define the number of episodes and maximum episode length\n",
    "    num_episodes = 2000\n",
    "    max_episode_length = 100\n",
    "    GAMMA = 0.9\n",
    "    \n",
    "    # Initialize the policy randomly\n",
    "    num_states = env.observation_space.n\n",
    "    policy = np.random.randint(0, env.action_space.n, size=num_states)\n",
    "\n",
    "    # Policy Evaluation\n",
    "    V = policy_evaluation(env, policy, num_episodes, max_episode_length, GAMMA)\n",
    "\n",
    "    # Policy Improvement\n",
    "    policy = policy_improvement(env, V, num_episodes, max_episode_length)\n",
    "\n",
    "    # Print the final value function and policy\n",
    "    print(\"Value Function:\")\n",
    "    print(V)\n",
    "    print(\"Policy:\")\n",
    "    print(policy)"
   ]
  },
  {
   "cell_type": "code",
   "execution_count": 160,
   "id": "86384ca9",
   "metadata": {},
   "outputs": [
    {
     "name": "stdout",
     "output_type": "stream",
     "text": [
      "-----main.policy---- [1 3 1 3 3 3 3 3 2 3 2 2 2 0 1 2]\n",
      "Value Function:\n",
      "[0. 0. 0. 0. 0. 0. 0. 0. 0. 0. 0. 0. 0. 0. 0. 0.]\n",
      "Policy:\n",
      "[0 0 0 0 0 0 0 0 0 0 0 0 0 0 0 0]\n"
     ]
    }
   ],
   "source": [
    "\n",
    "if __name__ == \"__main__\":\n",
    "  main()"
   ]
  },
  {
   "cell_type": "code",
   "execution_count": null,
   "id": "d0251f06",
   "metadata": {},
   "outputs": [],
   "source": []
  },
  {
   "cell_type": "code",
   "execution_count": null,
   "id": "838f496b",
   "metadata": {},
   "outputs": [],
   "source": []
  }
 ],
 "metadata": {
  "kernelspec": {
   "display_name": "Python 3 (ipykernel)",
   "language": "python",
   "name": "python3"
  },
  "language_info": {
   "codemirror_mode": {
    "name": "ipython",
    "version": 3
   },
   "file_extension": ".py",
   "mimetype": "text/x-python",
   "name": "python",
   "nbconvert_exporter": "python",
   "pygments_lexer": "ipython3",
   "version": "3.10.9"
  }
 },
 "nbformat": 4,
 "nbformat_minor": 5
}
