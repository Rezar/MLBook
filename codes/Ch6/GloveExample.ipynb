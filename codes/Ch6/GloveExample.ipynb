{
 "cells": [
  {
   "cell_type": "markdown",
   "metadata": {
    "colab_type": "text",
    "id": "view-in-github"
   },
   "source": [
    "<a href=\"https://colab.research.google.com/github/changliu17/dsfigures/blob/master/word2vec0703.ipynb\" target=\"_parent\"><img src=\"https://colab.research.google.com/assets/colab-badge.svg\" alt=\"Open In Colab\"/></a>"
   ]
  },
  {
   "cell_type": "code",
   "execution_count": 2,
   "metadata": {
    "colab": {},
    "colab_type": "code",
    "id": "-wb6QnUeRm1A"
   },
   "outputs": [],
   "source": [
    "\n",
    "## Create by Chang Liu\n",
    "## cliu17 [at] bu.edu\n",
    "\n",
    "##  Packages: numpy, matplotlib, pandas, scikit-learn, genism\n",
    "##  Files needed can be download at https://nlp.stanford.edu/projects/glove/\n",
    "##  Reference： https://web.stanford.edu/class/cs224n/materials/Gensim%20word%20vector%20visualization.html\n",
    "\n",
    "import numpy as np\n",
    "import matplotlib.pyplot as plt\n",
    "import mpl_toolkits.axisartist as axisartist\n",
    "import pandas as pd\n",
    "from sklearn.decomposition import PCA\n",
    "from gensim.test.utils import datapath, get_tmpfile\n",
    "from gensim.models import KeyedVectors\n",
    "from gensim.scripts.glove2word2vec import glove2word2vec\n"
   ]
  },
  {
   "cell_type": "code",
   "execution_count": null,
   "metadata": {
    "colab": {},
    "colab_type": "code",
    "id": "Wwj59IYx-1ng"
   },
   "outputs": [],
   "source": [
    "# Import file and train model\n",
    "# Files can be download at https://nlp.stanford.edu/projects/glove/\n",
    "glove_file = 'glove.6B.100d.txt'  # Pre-trained word vectors \n",
    "word2vec_glove_file = 'glove.6B.100d.word2vec.txt'\n",
    "glove2word2vec(glove_file, word2vec_glove_file)\n"
   ]
  },
  {
   "cell_type": "code",
   "execution_count": null,
   "metadata": {
    "colab": {},
    "colab_type": "code",
    "id": "51XF9kFgBTpj"
   },
   "outputs": [],
   "source": [
    "model = KeyedVectors.load_word2vec_format(word2vec_glove_file)"
   ]
  },
  {
   "cell_type": "code",
   "execution_count": null,
   "metadata": {
    "colab": {},
    "colab_type": "code",
    "id": "778lzYAS_Vbw"
   },
   "outputs": [],
   "source": [
    "# define analogy   \n",
    "def analogy(x1, y1, x2):\n",
    "    result = model.most_similar(negative=[x1], \n",
    "                                positive=[y1, x2])\n",
    "    return result[0][0]\n",
    "\n",
    "# apply analogy to find capital cities in different countries\n",
    "countries = ['india', 'china', 'nigeria', 'brazil']\n",
    "cities = [analogy('italy', 'rome', country) for country in countries]\n",
    "label = countries + cities\n",
    "data = [model[w] for w in label]\n",
    "\n",
    "# Apply pca to reduce the dimension of the data to 2\n",
    "def dimension_reduction(model, words=None, sample=0):\n",
    "    if words == None:\n",
    "        if sample > 0:\n",
    "            words = np.random.choice(list(model.vocab.keys()), sample)\n",
    "        else:\n",
    "            words = [ word for word in model.vocab ]\n",
    "        \n",
    "    word_vectors = np.array([model[w] for w in words])\n",
    "\n",
    "    twodim = PCA().fit_transform(word_vectors)[:,:2]\n",
    "    return twodim\n",
    "eg = dimension_reduction(model, countries+cities)\n",
    "# print(eg)"
   ]
  },
  {
   "cell_type": "code",
   "execution_count": 55,
   "metadata": {
    "colab": {},
    "colab_type": "code",
    "id": "bTqYoSYMESDF"
   },
   "outputs": [],
   "source": [
    "# Create capitalized labeld for annotation\n",
    "realcities = [c.capitalize() for c in cities]\n",
    "realcountries = [c.capitalize() for c in countries]\n",
    "reallabel = realcountries + realcities\n",
    "# print(reallabel)"
   ]
  },
  {
   "cell_type": "code",
   "execution_count": 56,
   "metadata": {
    "colab": {
     "base_uri": "https://localhost:8080/",
     "height": 323
    },
    "colab_type": "code",
    "id": "RSsSetAVBrNl",
    "outputId": "2bdbc650-f0b4-45c6-97db-3d54046b9ec8"
   },
   "outputs": [
    {
     "data": {
      "image/png": "[encoded data removed]",
      "text/plain": [
       "<Figure size 576x360 with 1 Axes>"
      ]
     },
     "metadata": {
      "tags": []
     },
     "output_type": "display_data"
    }
   ],
   "source": [
    "# Visualization\n",
    "fig = plt.figure(figsize=(8,5))\n",
    "ax = axisartist.Subplot(fig, 111)\n",
    "\n",
    "# Axis setting\n",
    "fig.add_axes(ax)\n",
    "ax.axis['right'].set_visible(False)  # clear right and top frame\n",
    "ax.axis['top'].set_visible(False)\n",
    "ax.axis['left'].set_axisline_style('->')  # draw an arrow for y-axis\n",
    "ax.axis['bottom'].set_axisline_style('->') \n",
    "ax.set_xticks([]) # Do not show ticks\n",
    "ax.set_yticks([])\n",
    "\n",
    "plt.scatter(eg[:,0], eg[:,1 ], s=30, edgecolors='k', c='c')\n",
    "\n",
    "# Annotation\n",
    "# Annotate labels\n",
    "for i in range(0,8):\n",
    "        plt.annotate(\n",
    "            reallabel[i],\n",
    "            xy = eg[i],\n",
    "            xytext=(-10, 18), \n",
    "            textcoords='offset points',\n",
    "            fontsize=20)   \n",
    "\n",
    "# Draw arrows to show the relationship\n",
    "for i in range(len(eg)//2):\n",
    "    plt.annotate(\"\",\n",
    "            xy=eg[i],\n",
    "            xytext=eg[i+len(data)//2],\n",
    "            arrowprops=dict(arrowstyle=\"-|>\",\n",
    "                                connectionstyle=\"arc3\"))\n",
    "    \n",
    "plt.show()"
   ]
  }
 ],
 "metadata": {
  "colab": {
   "authorship_tag": "ABX9TyPtzlSvKGPn6QWrWbYfF3cu",
   "collapsed_sections": [],
   "include_colab_link": true,
   "name": "word2vec0703.ipynb",
   "provenance": []
  },
  "kernelspec": {
   "display_name": "Python 3",
   "language": "python",
   "name": "python3"
  },
  "language_info": {
   "codemirror_mode": {
    "name": "ipython",
    "version": 3
   },
   "file_extension": ".py",
   "mimetype": "text/x-python",
   "name": "python",
   "nbconvert_exporter": "python",
   "pygments_lexer": "ipython3",
   "version": "3.8.5"
  }
 },
 "nbformat": 4,
 "nbformat_minor": 1
}
