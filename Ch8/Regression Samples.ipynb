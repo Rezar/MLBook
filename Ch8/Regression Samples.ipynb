{
 "cells": [
  {
   "cell_type": "code",
   "execution_count": 9,
   "metadata": {},
   "outputs": [
    {
     "name": "stdout",
     "output_type": "stream",
     "text": [
      "\u001b[31mERROR: Could not find a version that satisfies the requirement tensorflow-gpu (from versions: none)\u001b[0m\r\n",
      "\u001b[31mERROR: No matching distribution found for tensorflow-gpu\u001b[0m\r\n"
     ]
    }
   ],
   "source": []
  },
  {
   "cell_type": "code",
   "execution_count": 6,
   "metadata": {},
   "outputs": [
    {
     "name": "stdout",
     "output_type": "stream",
     "text": [
      "[[10]\n",
      " [20]\n",
      " [28]\n",
      " [30]\n",
      " [45]\n",
      " [38]\n",
      " [42]\n",
      " [55]\n",
      " [55]]\n",
      "[1.5 2.1 3.2 4.2 5.  6.  7.  8.  9. ]\n",
      "[[100]]\n",
      "[15.49639682]\n"
     ]
    }
   ],
   "source": [
    "#-------- Linear Regression --------\n",
    "import numpy as np\n",
    "from sklearn.linear_model import LinearRegression\n",
    "X = np.array([10, 20, 28, 30, 45, 38, 42, 55, 55]).reshape((-1, 1))\n",
    "Y = np.array([1.5, 2.1, 3.2, 4.2, 5, 6, 7, 8, 9]) \n",
    "print (X)\n",
    "print (Y)\n",
    "model = LinearRegression().fit(X, Y)\n",
    "\n",
    "x_new = np.array([100]).reshape((-1, 1))\n",
    "print(x_new)\n",
    "                                 \n",
    "y_new = model.predict(x_new)\n",
    "print(y_new)\n"
   ]
  },
  {
   "cell_type": "code",
   "execution_count": 7,
   "metadata": {},
   "outputs": [
    {
     "data": {
      "image/png": "[encoded data removed]",
      "text/plain": [
       "<Figure size 432x288 with 1 Axes>"
      ]
     },
     "metadata": {
      "needs_background": "light"
     },
     "output_type": "display_data"
    },
    {
     "name": "stdout",
     "output_type": "stream",
     "text": [
      "[-3.03208795e-02  1.34333191e+00 -1.55383039e+01  1.13768037e+02]\n"
     ]
    },
    {
     "data": {
      "image/png": "[encoded data removed]",
      "text/plain": [
       "<Figure size 432x288 with 1 Axes>"
      ]
     },
     "metadata": {
      "needs_background": "light"
     },
     "output_type": "display_data"
    }
   ],
   "source": [
    "# ------- Polynomial Regression ---------\n",
    "# source: https://www.w3schools.com/python/python_ml_polynomial_regression.asp\n",
    "import numpy\n",
    "import matplotlib.pyplot as plt\n",
    "\n",
    "x = [1,2,3,5,6,7,8,9,10,12,13,14,15,16,18,19,21,22]\n",
    "y = [100,90,80,60,60,55,60,65,70,70,75,76,78,79,90,99,99,100]\n",
    "\n",
    "plt.scatter(x, y)\n",
    "plt.show()\n",
    "#-------\n",
    "mymodel = numpy.poly1d(numpy.polyfit(x, y, 3)) # TODO: change \"degree parameter\" 3 to 8 and see the result of new regression line\n",
    "# print model coefficients \n",
    "print(mymodel.coefficients)\n",
    "\n",
    "myline = numpy.linspace(1, 22, 100)\n",
    "\n",
    "plt.scatter(x, y)\n",
    "plt.plot(myline, mymodel(myline))\n",
    "plt.show()\n"
   ]
  },
  {
   "cell_type": "code",
   "execution_count": 8,
   "metadata": {},
   "outputs": [
    {
     "data": {
      "text/plain": [
       "(4.387122002085505, 0.01912653593238578)"
      ]
     },
     "execution_count": 8,
     "metadata": {},
     "output_type": "execute_result"
    }
   ],
   "source": [
    "#--------- F-value ---------------\n",
    "import numpy as np\n",
    "import scipy \n",
    "\n",
    "x = [18, 19, 22, 25, 27, 28, 41, 45, 51, 55]\n",
    "y = [14, 15, 15, 17, 18, 22, 25, 25, 27, 34]\n",
    "#define F-test function\n",
    "def f_test(x, y):\n",
    "    x = np.array(x)\n",
    "    y = np.array(y)\n",
    "    f = np.var(x, ddof=1)/np.var(y, ddof=1) #calculate F test statistic \n",
    "    dfn = x.size-1 #define degrees of freedom numerator \n",
    "    dfd = y.size-1 #define degrees of freedom denominator \n",
    "    p = 1 - scipy.stats.f.cdf(f, dfn, dfd) #find p-value of F test statistic \n",
    "    return f, p\n",
    "\n",
    "#perform F-test\n",
    "f_test(x, y)\n",
    "\n",
    "# The F test statistic is 4.38712 and the corresponding p-value is 0.019127"
   ]
  },
  {
   "cell_type": "code",
   "execution_count": 9,
   "metadata": {},
   "outputs": [
    {
     "name": "stdout",
     "output_type": "stream",
     "text": [
      "MSE: 0.836\n",
      "RSME:  0.9143303560529968\n"
     ]
    },
    {
     "ename": "NameError",
     "evalue": "name 'r2_score' is not defined",
     "output_type": "error",
     "traceback": [
      "\u001b[0;31m---------------------------------------------------------------------------\u001b[0m",
      "\u001b[0;31mNameError\u001b[0m                                 Traceback (most recent call last)",
      "Input \u001b[0;32mIn [9]\u001b[0m, in \u001b[0;36m<cell line: 15>\u001b[0;34m()\u001b[0m\n\u001b[1;32m     13\u001b[0m rmse \u001b[38;5;241m=\u001b[39m np\u001b[38;5;241m.\u001b[39msqrt(mean_squared_error(Y_true,Y_pred)) \n\u001b[1;32m     14\u001b[0m \u001b[38;5;28mprint\u001b[39m (\u001b[38;5;124m'\u001b[39m\u001b[38;5;124mRSME: \u001b[39m\u001b[38;5;124m'\u001b[39m,rmse)\n\u001b[0;32m---> 15\u001b[0m \u001b[38;5;28mprint\u001b[39m (\u001b[38;5;124m'\u001b[39m\u001b[38;5;124mR^2: \u001b[39m\u001b[38;5;124m'\u001b[39m,\u001b[43mr2_score\u001b[49m(Y_true, Y_pred))\n",
      "\u001b[0;31mNameError\u001b[0m: name 'r2_score' is not defined"
     ]
    }
   ],
   "source": [
    "# -------- R^2, MSE and RSME Errors -------\n",
    "\n",
    "from sklearn.metrics import mean_squared_error\n",
    "import numpy as np   \n",
    "# Given values\n",
    "Y_true = [1,4,5,6,7]  # Y_true = Y (original values)\n",
    "  \n",
    "# calculated values\n",
    "Y_pred = [0.6,3,4,5.1,5.9]  # Y_pred = Y\n",
    "  \n",
    "\n",
    "print ('MSE:' ,mean_squared_error(Y_true,Y_pred))\n",
    "rmse = np.sqrt(mean_squared_error(Y_true,Y_pred)) \n",
    "print ('RSME: ',rmse)\n",
    "print ('R^2: ',r2_score(Y_true, Y_pred))\n"
   ]
  },
  {
   "cell_type": "code",
   "execution_count": 1,
   "metadata": {},
   "outputs": [
    {
     "name": "stdout",
     "output_type": "stream",
     "text": [
      "MSE train: 22.545, test: 21.517\n",
      "R^2 train: 0.743, test: 0.711\n"
     ]
    }
   ],
   "source": [
    "# -------- R^2, MSE Errors with Scikit Learn-------\n",
    "# Source: https://vitalflux.com/mean-square-error-r-squared-which-one-to-use/\n",
    "\n",
    "import pandas as pd\n",
    "from sklearn.model_selection import train_test_split\n",
    "from sklearn.preprocessing import StandardScaler\n",
    "from sklearn.linear_model import LinearRegression\n",
    "from sklearn.pipeline import make_pipeline\n",
    "from sklearn.metrics import mean_squared_error, r2_score\n",
    "from sklearn import datasets\n",
    "#\n",
    "# Load the Sklearn Boston Dataset\n",
    "#\n",
    "boston_ds = datasets.load_boston()\n",
    "X = boston_ds.data\n",
    "y = boston_ds.target\n",
    "\n",
    "# Create a training and test split, 70% train, 30% train\n",
    "X_train, X_test, y_train, y_test = train_test_split(X, y, test_size=0.3, random_state=42)\n",
    "\n",
    "# Fit a pipeline using Training dataset and related labels\n",
    "# The purpose of the pipeline is to assemble several steps that can be cross-validated together while setting different parameters. \n",
    "pipeline = make_pipeline(StandardScaler(), LinearRegression())\n",
    "pipeline.fit(X_train, y_train)\n",
    "\n",
    "# Calculate the predicted value for training and test dataset\n",
    "y_train_pred = pipeline.predict(X_train)\n",
    "y_test_pred = pipeline.predict(X_test)\n",
    "\n",
    "# Calculate Mean Squared Error\n",
    "print('MSE train: %.3f, test: %.3f' % (mean_squared_error(y_train, y_train_pred),\n",
    "                mean_squared_error(y_test, y_test_pred)))\n",
    "\n",
    "# R-Squared\n",
    "print('R^2 train: %.3f, test: %.3f' % (r2_score(y_train, y_train_pred),\n",
    "                r2_score(y_test, y_test_pred)))"
   ]
  },
  {
   "cell_type": "code",
   "execution_count": 12,
   "metadata": {},
   "outputs": [
    {
     "name": "stdout",
     "output_type": "stream",
     "text": [
      "   gmat  gpa  work_experience\n",
      "0   590  2.0                3\n",
      "1   740  3.7                4\n",
      "2   680  3.3                6\n",
      "3   610  2.3                1\n",
      "4   710  3.0                5\n",
      "who will get admitted:\n",
      "[0 1 1 0 1]\n"
     ]
    }
   ],
   "source": [
    "#--------- Logistic Regression Classification Sample -----------------\n",
    "# Source: https://datatofish.com/logistic-regression-python/\n",
    "import pandas as pd\n",
    "from sklearn.model_selection import train_test_split\n",
    "from sklearn.linear_model import LogisticRegression\n",
    "\n",
    "candidates = {'gmat': [780,750,690,710,680,730,690,720,740,690,610,690,710,680,770,610,580,650,540,590,620,600,550,550,570,670,660,580,650,660,640,620,660,660,680,650,670,580,590,690],\n",
    "              'gpa': [4,3.9,3.3,3.7,3.9,3.7,2.3,3.3,3.3,1.7,2.7,3.7,3.7,3.3,3.3,3,2.7,3.7,2.7,2.3,3.3,2,2.3,2.7,3,3.3,3.7,2.3,3.7,3.3,3,2.7,4,3.3,3.3,2.3,2.7,3.3,1.7,3.7],\n",
    "              'work_experience': [3,4,3,5,4,6,1,4,5,1,3,5,6,4,3,1,4,6,2,3,2,1,4,1,2,6,4,2,6,5,1,2,4,6,5,1,2,1,4,5],\n",
    "              'admitted': [1,1,0,1,0,1,0,1,1,0,0,1,1,0,1,0,0,1,0,0,1,0,0,0,0,1,1,0,1,1,0,0,1,1,1,0,0,0,0,1]\n",
    "              }\n",
    "\n",
    "df = pd.DataFrame(candidates,columns= ['gmat', 'gpa','work_experience','admitted'])\n",
    "\n",
    "\n",
    "X = df[['gmat', 'gpa','work_experience']]\n",
    "y = df['admitted']\n",
    "\n",
    "X_train,X_test,y_train,y_test = train_test_split(X,y,test_size=0.25,random_state=0)  #in this case, you may choose to set the test_size=0. You should get the same prediction here\n",
    "\n",
    "logistic_regression= LogisticRegression()\n",
    "logistic_regression.fit(X_train,y_train)\n",
    "\n",
    "\n",
    "\n",
    "new_candidates = {'gmat': [590,740,680,610,710],\n",
    "                  'gpa': [2,3.7,3.3,2.3,3],\n",
    "                  'work_experience': [3,4,6,1,5]\n",
    "                  }\n",
    "\n",
    "df2 = pd.DataFrame(new_candidates,columns= ['gmat', 'gpa','work_experience'])\n",
    "y_pred=logistic_regression.predict(df2)\n",
    "\n",
    "print (df2)\n",
    "print (\"who will get admitted:\")\n",
    "print (y_pred)"
   ]
  },
  {
   "cell_type": "code",
   "execution_count": null,
   "metadata": {},
   "outputs": [],
   "source": []
  }
 ],
 "metadata": {
  "kernelspec": {
   "display_name": "Python 3 (ipykernel)",
   "language": "python",
   "name": "python3"
  },
  "language_info": {
   "codemirror_mode": {
    "name": "ipython",
    "version": 3
   },
   "file_extension": ".py",
   "mimetype": "text/x-python",
   "name": "python",
   "nbconvert_exporter": "python",
   "pygments_lexer": "ipython3",
   "version": "3.9.12"
  }
 },
 "nbformat": 4,
 "nbformat_minor": 4
}
