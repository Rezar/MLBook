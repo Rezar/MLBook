{
 "cells": [
  {
   "cell_type": "code",
   "execution_count": 7,
   "metadata": {},
   "outputs": [],
   "source": [
    "#----- Stratified Sampling -------\n",
    "# Source: https://stackoverflow.com/questions/50195187/how-to-do-a-random-stratified-sampling-with-python-not-a-train-test-split\n",
    "\n",
    "import pandas as pd\n",
    "import numpy as np\n",
    "\n",
    "# Generate random population (100K)\n",
    "\n",
    "population = pd.DataFrame(index=range(0,10000))\n",
    "population['income'] = 0\n",
    "population['income'].iloc[3900:8000] = 1\n",
    "population['income'].iloc[8000:] = 2\n",
    "population['sex'] = np.random.randint(0,2,10000)\n",
    "population['age'] = np.random.randint(0,4,10000)\n",
    "\n",
    "pop_count = population.groupby(['income', 'sex', 'age'])['income'].count()\n",
    "\n",
    "# Random sampling (100 observations out of 100k)\n",
    "\n",
    "random_sample = population.iloc[\n",
    "    np.random.randint(\n",
    "        0, \n",
    "        len(population), \n",
    "        int(len(population) / 1000)\n",
    "    )\n",
    "]\n",
    "\n",
    "# Random Stratified Sampling (100 observations out of 10k)\n",
    "\n",
    "stratified_sample = list(map(lambda x : population[\n",
    "    ( population['income'] == pop_count.index[x][0]) \n",
    "    &\n",
    "    ( population['sex'] == pop_count.index[x][1] )\n",
    "    &\n",
    "    ( population['age'] == pop_count.index[x][2] )\n",
    "].sample(frac=0.01), range(len(pop_count))))\n",
    "\n",
    "stratified_sample = pd.concat(stratified_sample)"
   ]
  },
  {
   "cell_type": "code",
   "execution_count": 6,
   "metadata": {},
   "outputs": [
    {
     "name": "stdout",
     "output_type": "stream",
     "text": [
      "      income  sex  age\n",
      "287        0    0    0\n",
      "263        0    0    1\n",
      "3098       0    1    3\n",
      "7554       1    0    0\n",
      "5999       1    0    1\n",
      "3918       1    0    3\n",
      "4876       1    1    2\n",
      "7247       1    1    3\n",
      "8\n"
     ]
    }
   ],
   "source": [
    "print( stratified_sample)\n",
    "print( len(stratified_sample))\n",
    "#---- You can see in this small strata we have all incomes (0,1), all sexes (0,1) and all ages(0,1,2,3)"
   ]
  },
  {
   "cell_type": "code",
   "execution_count": null,
   "metadata": {},
   "outputs": [],
   "source": []
  }
 ],
 "metadata": {
  "kernelspec": {
   "display_name": "Python 3 (ipykernel)",
   "language": "python",
   "name": "python3"
  },
  "language_info": {
   "codemirror_mode": {
    "name": "ipython",
    "version": 3
   },
   "file_extension": ".py",
   "mimetype": "text/x-python",
   "name": "python",
   "nbconvert_exporter": "python",
   "pygments_lexer": "ipython3",
   "version": "3.10.9"
  }
 },
 "nbformat": 4,
 "nbformat_minor": 4
}
