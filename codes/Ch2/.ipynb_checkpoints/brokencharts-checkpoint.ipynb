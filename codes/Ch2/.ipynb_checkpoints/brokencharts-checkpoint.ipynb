{
 "cells": [
  {
   "cell_type": "code",
   "execution_count": 8,
   "metadata": {},
   "outputs": [
    {
     "data": {
      "image/png": "[encoded data removed]",
      "text/plain": [
       "<Figure size 360x432 with 2 Axes>"
      ]
     },
     "metadata": {
      "needs_background": "light"
     },
     "output_type": "display_data"
    }
   ],
   "source": [
    "import pandas as pd\n",
    "import matplotlib.pyplot as plt\n",
    "import numpy as np\n",
    "\n",
    "XX = pd.Series([200,400,100,1400],index=['Column1','Column2','Column3','Column4'])\n",
    "fig, (ax1,ax2) = plt.subplots(2,1,sharex=True,\n",
    "                         figsize=(5,6))\n",
    "ax1.spines['bottom'].set_visible(False)\n",
    "ax1.tick_params(axis='x',which='both',bottom=False)\n",
    "ax2.spines['top'].set_visible(False)\n",
    "\n",
    "bs = 500\n",
    "ts = 1000\n",
    "\n",
    "ax2.set_ylim(0,bs)\n",
    "ax1.set_ylim(ts,1500)\n",
    "ax1.set_yticks(np.arange(1000,1501,100))\n",
    "\n",
    "bars1 = ax1.bar(XX.index, XX.values)\n",
    "bars2 = ax2.bar(XX.index, XX.values)\n",
    "\n",
    "for tick in ax2.get_xticklabels():\n",
    "    tick.set_rotation(0)\n",
    "d = .015  \n",
    "kwargs = dict(transform=ax1.transAxes, color='k', clip_on=False)\n",
    "ax1.plot((-d, +d), (-d, +d), **kwargs)      \n",
    "ax1.plot((1 - d, 1 + d), (-d, +d), **kwargs)\n",
    "kwargs.update(transform=ax2.transAxes)  \n",
    "ax2.plot((-d, +d), (1 - d, 1 + d), **kwargs)  \n",
    "ax2.plot((1 - d, 1 + d), (1 - d, 1 + d), **kwargs)\n",
    "\n",
    "for b1, b2 in zip(bars1, bars2):\n",
    "    posx = b2.get_x() + b2.get_width()/2.\n",
    "    if b2.get_height() > bs:\n",
    "        ax2.plot((posx-3*d, posx+3*d), (1 - d, 1 + d), color='k', clip_on=False,\n",
    "                 transform=ax2.get_xaxis_transform())\n",
    "    if b1.get_height() > ts:\n",
    "        ax1.plot((posx-3*d, posx+3*d), (- d, + d), color='k', clip_on=False,\n",
    "                 transform=ax1.get_xaxis_transform())\n",
    "\n",
    "plt.savefig('brokenbarchart.png', dpi=300)\n",
    "plt.show()\n"
   ]
  },
  {
   "cell_type": "code",
   "execution_count": null,
   "metadata": {},
   "outputs": [],
   "source": []
  }
 ],
 "metadata": {
  "kernelspec": {
   "display_name": "Python 3",
   "language": "python",
   "name": "python3"
  },
  "language_info": {
   "codemirror_mode": {
    "name": "ipython",
    "version": 3
   },
   "file_extension": ".py",
   "mimetype": "text/x-python",
   "name": "python",
   "nbconvert_exporter": "python",
   "pygments_lexer": "ipython3",
   "version": "3.8.5"
  }
 },
 "nbformat": 4,
 "nbformat_minor": 4
}
