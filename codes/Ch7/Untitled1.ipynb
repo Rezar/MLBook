{
 "cells": [
  {
   "cell_type": "code",
   "execution_count": 2,
   "id": "341e3997",
   "metadata": {},
   "outputs": [
    {
     "name": "stdout",
     "output_type": "stream",
     "text": [
      "Requirement already satisfied: torch in /Users/reza/anaconda3/lib/python3.10/site-packages (2.2.1)\n",
      "Requirement already satisfied: torchvision in /Users/reza/anaconda3/lib/python3.10/site-packages (0.17.1)\n",
      "Requirement already satisfied: typing-extensions>=4.8.0 in /Users/reza/anaconda3/lib/python3.10/site-packages (from torch) (4.10.0)\n",
      "Requirement already satisfied: sympy in /Users/reza/anaconda3/lib/python3.10/site-packages (from torch) (1.11.1)\n",
      "Requirement already satisfied: jinja2 in /Users/reza/anaconda3/lib/python3.10/site-packages (from torch) (3.1.2)\n",
      "Requirement already satisfied: networkx in /Users/reza/anaconda3/lib/python3.10/site-packages (from torch) (3.1)\n",
      "Requirement already satisfied: fsspec in /Users/reza/anaconda3/lib/python3.10/site-packages (from torch) (2022.11.0)\n",
      "Requirement already satisfied: filelock in /Users/reza/anaconda3/lib/python3.10/site-packages (from torch) (3.9.0)\n",
      "Requirement already satisfied: pillow!=8.3.*,>=5.3.0 in /Users/reza/anaconda3/lib/python3.10/site-packages (from torchvision) (9.4.0)\n",
      "Requirement already satisfied: numpy in /Users/reza/anaconda3/lib/python3.10/site-packages (from torchvision) (1.23.5)\n",
      "Requirement already satisfied: MarkupSafe>=2.0 in /Users/reza/anaconda3/lib/python3.10/site-packages (from jinja2->torch) (2.1.1)\n",
      "Requirement already satisfied: mpmath>=0.19 in /Users/reza/anaconda3/lib/python3.10/site-packages/mpmath-1.2.1-py3.10.egg (from sympy->torch) (1.2.1)\n",
      "Collecting tensorly\n",
      "  Downloading tensorly-0.8.1-py3-none-any.whl (229 kB)\n",
      "\u001b[2K     \u001b[90m━━━━━━━━━━━━━━━━━━━━━━━━━━━━━━━━━━━━━━━\u001b[0m \u001b[32m229.7/229.7 kB\u001b[0m \u001b[31m5.1 MB/s\u001b[0m eta \u001b[36m0:00:00\u001b[0m00:01\u001b[0m\n",
      "\u001b[?25hRequirement already satisfied: numpy in /Users/reza/anaconda3/lib/python3.10/site-packages (from tensorly) (1.23.5)\n",
      "Requirement already satisfied: scipy in /Users/reza/anaconda3/lib/python3.10/site-packages (from tensorly) (1.10.0)\n",
      "Installing collected packages: tensorly\n",
      "Successfully installed tensorly-0.8.1\n"
     ]
    }
   ],
   "source": [
    "! pip install torch torchvision\n",
    "! pip install tensorly\n"
   ]
  },
  {
   "cell_type": "code",
   "execution_count": 7,
   "id": "60955147",
   "metadata": {},
   "outputs": [
    {
     "name": "stdout",
     "output_type": "stream",
     "text": [
      "Original shape: torch.Size([5, 64, 64, 3])\n",
      "After permute: torch.Size([5, 3, 64, 64])\n",
      "Shape of the tensor: torch.Size([5, 64, 3, 64])\n"
     ]
    }
   ],
   "source": [
    "import numpy as np\n",
    "\n",
    "import torch\n",
    "\n",
    "# Create a dummy tensor simulating your scenario, e.g., a batch of 5 images with 64x64 resolution and 3 channels (RGB).\n",
    "# The tensor shape is (batch_size, height, width, channels), following the NHWC format.\n",
    "dummy_tensor = torch.randn(5, 64, 64, 3)\n",
    "\n",
    "# Use permute to rearrange the tensor to the NCHW format expected by PyTorch CNNs.\n",
    "corrected_tensor = dummy_tensor.permute(0, 3, 1, 2)\n",
    "\n",
    "print(\"Original shape:\", dummy_tensor.shape)\n",
    "print(\"After permute:\", corrected_tensor.shape)\n",
    "# Convert the list of NumPy arrays into a single NumPy array.\n",
    "# The shape will be (num_frames, height, width, channels).\n",
    "frames_np = np.array(corrected_tensor)\n",
    "\n",
    "# Convert the NumPy array to a PyTorch tensor.\n",
    "# Also, PyTorch expects the channel dimension to be the second dimension (NCHW),\n",
    "# so we need to transpose the axes.\n",
    "frames_tensor = torch.tensor(frames_np).permute(0, 3, 1, 2)\n",
    "\n",
    "# Now, frames_tensor is a PyTorch tensor with the shape (num_frames, channels, height, width),\n",
    "# which is suitable for input into Convolutional Neural Networks in PyTorch.\n",
    "print(\"Shape of the tensor:\", frames_tensor.shape)\n"
   ]
  },
  {
   "cell_type": "code",
   "execution_count": 14,
   "id": "f6445574",
   "metadata": {},
   "outputs": [
    {
     "name": "stdout",
     "output_type": "stream",
     "text": [
      "torch.Size([5, 3, 64, 64])\n"
     ]
    },
    {
     "ename": "TypeError",
     "evalue": "tucker() got an unexpected keyword argument 'ranks'",
     "output_type": "error",
     "traceback": [
      "\u001b[0;31m---------------------------------------------------------------------------\u001b[0m",
      "\u001b[0;31mTypeError\u001b[0m                                 Traceback (most recent call last)",
      "Cell \u001b[0;32mIn[14], line 11\u001b[0m\n\u001b[1;32m      9\u001b[0m \u001b[38;5;66;03m# Tucker Decomposition\u001b[39;00m\n\u001b[1;32m     10\u001b[0m tucker_rank \u001b[38;5;241m=\u001b[39m [\u001b[38;5;241m5\u001b[39m, \u001b[38;5;241m3\u001b[39m, \u001b[38;5;241m64\u001b[39m, \u001b[38;5;241m64\u001b[39m]  \u001b[38;5;66;03m# Adjust as necessary\u001b[39;00m\n\u001b[0;32m---> 11\u001b[0m core, tucker_factors \u001b[38;5;241m=\u001b[39m \u001b[43mtucker\u001b[49m\u001b[43m(\u001b[49m\u001b[43mframes_tensor\u001b[49m\u001b[43m,\u001b[49m\u001b[43m \u001b[49m\u001b[43mranks\u001b[49m\u001b[38;5;241;43m=\u001b[39;49m\u001b[43mtucker_rank\u001b[49m\u001b[43m)\u001b[49m\n\u001b[1;32m     13\u001b[0m \u001b[38;5;28mprint\u001b[39m(\u001b[38;5;124m\"\u001b[39m\u001b[38;5;130;01m\\n\u001b[39;00m\u001b[38;5;124mTucker Decomposition core shape:\u001b[39m\u001b[38;5;124m\"\u001b[39m, core\u001b[38;5;241m.\u001b[39mshape)\n\u001b[1;32m     14\u001b[0m \u001b[38;5;28mprint\u001b[39m(\u001b[38;5;124m\"\u001b[39m\u001b[38;5;124mTucker Decomposition factors shapes:\u001b[39m\u001b[38;5;124m\"\u001b[39m)\n",
      "\u001b[0;31mTypeError\u001b[0m: tucker() got an unexpected keyword argument 'ranks'"
     ]
    }
   ],
   "source": [
    "import tensorly as tl\n",
    "from tensorly.decomposition import parafac, tucker\n",
    "\n",
    "print (corrected_tensor.shape)\n",
    "# Assuming corrected_tensor is already in the desired NCHW format\n",
    "frames_tensor = corrected_tensor.float()  # Ensure it's in float format for decomposition\n",
    "\n",
    "\n",
    "# Tucker Decomposition\n",
    "tucker_rank = [5, 3, 64, 64]  # Adjust as necessary\n",
    "core, tucker_factors = tucker(frames_tensor, ranks=tucker_rank)\n",
    "\n",
    "print(\"\\nTucker Decomposition core shape:\", core.shape)\n",
    "print(\"Tucker Decomposition factors shapes:\")\n",
    "for i, factor in enumerate(tucker_factors):\n",
    "    print(f\"Factor {i+1} shape: {factor.shape}\")\n",
    "\n",
    "# CP Decomposition\n",
    "cp_rank = 3\n",
    "weights, factors = parafac(frames_tensor, rank=cp_rank)\n",
    "\n",
    "# Output shapes\n",
    "print(\"CP Decomposition factors shapes:\")\n",
    "for i, factor in enumerate(factors):\n",
    "    print(f\"Factor {i+1} shape: {factor.shape}\")\n"
   ]
  },
  {
   "cell_type": "code",
   "execution_count": null,
   "id": "a38ca442",
   "metadata": {},
   "outputs": [],
   "source": []
  }
 ],
 "metadata": {
  "kernelspec": {
   "display_name": "Python 3 (ipykernel)",
   "language": "python",
   "name": "python3"
  },
  "language_info": {
   "codemirror_mode": {
    "name": "ipython",
    "version": 3
   },
   "file_extension": ".py",
   "mimetype": "text/x-python",
   "name": "python",
   "nbconvert_exporter": "python",
   "pygments_lexer": "ipython3",
   "version": "3.10.9"
  }
 },
 "nbformat": 4,
 "nbformat_minor": 5
}
